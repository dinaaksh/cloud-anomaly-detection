{
 "cells": [
  {
   "cell_type": "code",
   "execution_count": 1,
   "id": "978de8ad-761c-429e-8bfc-682a1f479c54",
   "metadata": {},
   "outputs": [],
   "source": [
    "#code for generating dataset\n",
    "\n",
    "import pandas as pd\n",
    "import numpy as np\n",
    "from sklearn.svm import OneClassSVM\n",
    "from sklearn.preprocessing import StandardScaler \n",
    "from sklearn.metrics import classification_report\n",
    "\n",
    "def generate_normal_data(num_samples=46729):\n",
    "    data = {\n",
    "        'cpu_usage': np.random.uniform(0, 80, num_samples),  \n",
    "        'network_in': np.random.uniform(500, 2000, num_samples), \n",
    "        'network_out': np.random.uniform(500, 2000, num_samples), \n",
    "        'disk_read': np.random.uniform(300, 1500, num_samples),  \n",
    "        'disk_write': np.random.uniform(300, 1500, num_samples)  \n",
    "    }\n",
    "    df = pd.DataFrame(data)\n",
    "    df['label'] = 0  \n",
    "    return df\n",
    "\n",
    "def inject_anomalies(df, num_anomalies=27832):\n",
    "    anomalies = {\n",
    "        'cpu_usage': np.random.uniform(90, 100, num_anomalies),  \n",
    "        'network_in': np.random.uniform(5000, 10000, num_anomalies),  \n",
    "        'network_out': np.random.uniform(5000, 10000, num_anomalies),  \n",
    "        'disk_read': np.random.uniform(4000, 8000, num_anomalies),  \n",
    "        'disk_write': np.random.uniform(4000, 8000, num_anomalies)  \n",
    "    }\n",
    "    df_anomalies = pd.DataFrame(anomalies)\n",
    "    df_anomalies['label'] = 1  \n",
    "    return pd.concat([df, df_anomalies], ignore_index=True)\n",
    "\n",
    "\n",
    "df_normal = generate_normal_data()\n",
    "df = inject_anomalies(df_normal)\n",
    "df = df.sample(frac=1, random_state=42).reset_index(drop=True)\n",
    "df.to_csv('test.csv', index=False)\n",
    "print(\"done\")"
   ]
  },
  {
   "cell_type": "code",
   "execution_count": 11,
   "id": "1674ad8d-5786-4690-92b1-6f912864d969",
   "metadata": {},
   "outputs": [],
   "source": [
    "import pandas as pd\n",
    "import numpy as np\n",
    "from sklearn.svm import OneClassSVM\n",
    "from sklearn.preprocessing import StandardScaler\n",
    "from sklearn.metrics import classification_report, confusion_matrix\n",
    "import joblib"
   ]
  },
  {
   "cell_type": "code",
   "execution_count": 12,
   "id": "99a52eb0-d6ab-4a11-9c57-35a1b40fa101",
   "metadata": {},
   "outputs": [],
   "source": [
    "df = pd.read_csv('test.csv')\n",
    "\n",
    "X = df[['cpu_usage', 'network_in', 'network_out', 'disk_read', 'disk_write']]\n",
    "y = df['label']\n",
    "\n",
    "scaler = StandardScaler()\n",
    "X_scaled = scaler.fit_transform(X)"
   ]
  },
  {
   "cell_type": "code",
   "execution_count": 13,
   "id": "ce996c2f-4c40-436b-b61a-23868a15bab9",
   "metadata": {},
   "outputs": [],
   "source": [
    "svm_model = OneClassSVM(gamma='auto', nu=0.05) \n",
    "svm_model.fit(X_scaled[y == 0]) \n",
    "\n",
    "y_pred = svm_model.predict(X_scaled)\n",
    "y_pred = np.where(y_pred == 1, 0, 1)"
   ]
  },
  {
   "cell_type": "code",
   "execution_count": 82,
   "id": "6900622a-df8f-4489-87be-99461e28e50e",
   "metadata": {},
   "outputs": [
    {
     "name": "stdout",
     "output_type": "stream",
     "text": [
      "Confusion Matrix (Resampled):\n",
      "[[ 629  325]\n",
      " [   2 2003]]\n",
      "\n",
      "Classification Report (Resampled):\n",
      "              precision    recall  f1-score   support\n",
      "\n",
      "           0       1.00      0.66      0.79       954\n",
      "           1       0.86      1.00      0.92      2005\n",
      "\n",
      "    accuracy                           0.89      2959\n",
      "   macro avg       0.93      0.83      0.86      2959\n",
      "weighted avg       0.90      0.89      0.88      2959\n",
      "\n",
      "Class distribution after resampling:\n",
      "1    2005\n",
      "0     954\n",
      "Name: count, dtype: int64\n"
     ]
    }
   ],
   "source": [
    "print(\"Confusion Matrix:\")\n",
    "print(confusion_matrix(y, y_pred))\n",
    "\n",
    "print(\"Classification Report:\")\n",
    "print(classification_report(y, y_pred, target_names=['Normal', 'Anomaly']))"
   ]
  },
  {
   "cell_type": "code",
   "execution_count": 68,
   "id": "aa04d26c-fdf4-4ef7-a8ed-42fbadf3c826",
   "metadata": {},
   "outputs": [
    {
     "data": {
      "text/plain": [
       "['scaler.joblib']"
      ]
     },
     "execution_count": 68,
     "metadata": {},
     "output_type": "execute_result"
    }
   ],
   "source": [
    "joblib.dump(svm_model, 'test.pkl')\n",
    "joblib.dump(scaler, 'scaler.pkl')"
   ]
  },
  {
   "cell_type": "code",
   "execution_count": 14,
   "id": "44624fe0-3f52-48d5-b8d1-ed2f38ef936e",
   "metadata": {},
   "outputs": [
    {
     "name": "stdout",
     "output_type": "stream",
     "text": [
      "Confusion Matrix:\n",
      "[[1914   86]\n",
      " [   0  438]]\n",
      "Classification Report:\n",
      "              precision    recall  f1-score   support\n",
      "\n",
      "      Normal       1.00      0.96      0.98      2000\n",
      "     Anomaly       0.84      1.00      0.91       438\n",
      "\n",
      "    accuracy                           0.96      2438\n",
      "   macro avg       0.92      0.98      0.94      2438\n",
      "weighted avg       0.97      0.96      0.97      2438\n",
      "\n"
     ]
    }
   ],
   "source": [
    "#testing model on new data\n",
    "import pandas as pd\n",
    "import numpy as np\n",
    "from sklearn.svm import OneClassSVM\n",
    "from sklearn.preprocessing import StandardScaler\n",
    "from sklearn.metrics import classification_report, confusion_matrix\n",
    "import joblib\n",
    "\n",
    "test_df = pd.read_csv('test1.csv')\n",
    "\n",
    "X_test = test_df[['cpu_usage', 'network_in', 'network_out', 'disk_read', 'disk_write']]\n",
    "y_true = test_df['label']\n",
    "\n",
    "\n",
    "svm_model = joblib.load('svm_model.pkl')\n",
    "scaler = joblib.load('scaler.pkl')\n",
    "\n",
    "X_test_scaled = scaler.transform(X_test)\n",
    "\n",
    "y_pred = svm_model.predict(X_test_scaled)\n",
    "y_pred = np.where(y_pred == 1, 0, 1)  \n",
    "\n",
    "print(\"Confusion Matrix:\")\n",
    "print(confusion_matrix(y_true, y_pred))\n",
    "\n",
    "print(\"Classification Report:\")\n",
    "print(classification_report(y_true, y_pred, target_names=['Normal', 'Anomaly'], zero_division=0))\n",
    "\n"
   ]
  },
  {
   "cell_type": "code",
   "execution_count": null,
   "id": "f5319dde-02bf-4df4-875d-eba09493daa9",
   "metadata": {},
   "outputs": [],
   "source": []
  }
 ],
 "metadata": {
  "kernelspec": {
   "display_name": "Python 3 (ipykernel)",
   "language": "python",
   "name": "python3"
  },
  "language_info": {
   "codemirror_mode": {
    "name": "ipython",
    "version": 3
   },
   "file_extension": ".py",
   "mimetype": "text/x-python",
   "name": "python",
   "nbconvert_exporter": "python",
   "pygments_lexer": "ipython3",
   "version": "3.12.4"
  }
 },
 "nbformat": 4,
 "nbformat_minor": 5
}
